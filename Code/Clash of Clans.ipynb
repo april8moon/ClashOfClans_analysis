{
 "cells": [
  {
   "cell_type": "markdown",
   "id": "63b26577-f53f-4d06-8145-a29f2694862e",
   "metadata": {},
   "source": [
    "## Начало работы"
   ]
  },
  {
   "cell_type": "markdown",
   "id": "4fcc8b09-4007-423f-b890-d6b220ec6df1",
   "metadata": {},
   "source": [
    "**Подключаю нужные модули:**"
   ]
  },
  {
   "cell_type": "code",
   "execution_count": null,
   "id": "08b152cb-af60-4ca5-8143-de73b2ccd216",
   "metadata": {},
   "outputs": [],
   "source": [
    "import numpy as np  # массивы, матрицы, математика\n",
    "import pandas as pd  # данные, чтение и обработка\n",
    "import scipy.stats as sps  # статистика\n",
    "import matplotlib.pyplot as plt  # графики\n",
    "import seaborn as sns  # графики\n",
    "import os  # работа с файлами"
   ]
  },
  {
   "cell_type": "markdown",
   "id": "e9ad72b0-5f04-403d-ba5d-48b0f44705a6",
   "metadata": {},
   "source": [
    "**Создаю датафрейм:**"
   ]
  },
  {
   "cell_type": "code",
   "execution_count": null,
   "id": "13d9838d-c985-4e2f-880f-977fcd005cf8",
   "metadata": {},
   "outputs": [],
   "source": [
    "# Создаю пустой список для хранения дф\n",
    "dfs = []\n",
    "\n",
    "# Указываю путь\n",
    "file_path = \"D:\\\\Datasets\\\\Clash_of_Clans\\\\coc_clans_dataset.csv\"\n",
    "\n",
    "# Читаю данные из CSV файла и сохраняю их в дф\n",
    "df = pd.read_csv(file_path)\n",
    "\n",
    "# Добавляю дф в список\n",
    "dfs.append(df)"
   ]
  },
  {
   "cell_type": "markdown",
   "id": "9fa0dbe9-f02e-4a29-8af5-16228409a929",
   "metadata": {},
   "source": [
    "**Ознакамливаюсь с данными:**"
   ]
  },
  {
   "cell_type": "code",
   "execution_count": null,
   "id": "89b62304-3903-4233-9d2d-13a30c0c6271",
   "metadata": {},
   "outputs": [],
   "source": [
    "df.shape"
   ]
  },
  {
   "cell_type": "code",
   "execution_count": null,
   "id": "4ca2c146-1b75-4e8f-917a-404f44d1ae64",
   "metadata": {},
   "outputs": [],
   "source": [
    "pd.set_option('display.max_columns', None)\n",
    "df.head(10)"
   ]
  },
  {
   "cell_type": "code",
   "execution_count": null,
   "id": "7576f5c3-c2ba-458d-9b5d-ffc469102435",
   "metadata": {},
   "outputs": [],
   "source": [
    "df.info()"
   ]
  },
  {
   "cell_type": "markdown",
   "id": "6bacf574-4bec-4592-97cb-4bf50f707d70",
   "metadata": {},
   "source": [
    "**Создаю копию df:**<br>\n",
    "В копии data буду проводить изменения, а оригинальный датафрейм df останется для просмотра изначальных данных."
   ]
  },
  {
   "cell_type": "code",
   "execution_count": null,
   "id": "5e33d165-9869-4754-9219-b16efb280be8",
   "metadata": {},
   "outputs": [],
   "source": [
    "data = df.copy()"
   ]
  },
  {
   "cell_type": "markdown",
   "id": "75637d2a-731d-4ae9-a781-ace9a860d2d2",
   "metadata": {},
   "source": [
    "# 2. Очистка данных и работа с пустыми значениями"
   ]
  },
  {
   "cell_type": "markdown",
   "id": "b8f6d8c3-1078-4cb0-a7f9-89a4ca8af614",
   "metadata": {},
   "source": [
    "**Поиск и удаление дубликатов:**"
   ]
  },
  {
   "cell_type": "code",
   "execution_count": null,
   "id": "0b56fd5b-8413-48aa-88f3-6f918fd22eac",
   "metadata": {},
   "outputs": [],
   "source": [
    "data[data.duplicated()]"
   ]
  },
  {
   "cell_type": "markdown",
   "id": "26df25a5-efef-4e4a-b5d7-b7861121840a",
   "metadata": {},
   "source": [
    "Дубликатов в данных нет, но если бы они были, то нужно было бы выполнить удаление:"
   ]
  },
  {
   "cell_type": "code",
   "execution_count": null,
   "id": "306e80a4-4be0-4908-99eb-88e39600d4ae",
   "metadata": {},
   "outputs": [],
   "source": [
    "data.drop_duplicates()\n",
    "data.shape"
   ]
  },
  {
   "cell_type": "markdown",
   "id": "20bad250-605f-45dd-b561-068a685c23e5",
   "metadata": {},
   "source": [
    "**Выявление и работа с пустыми значениями:**"
   ]
  },
  {
   "cell_type": "code",
   "execution_count": null,
   "id": "d02267a0-382c-4ec9-9e3b-4aff35215b76",
   "metadata": {},
   "outputs": [],
   "source": [
    "missing_values = df.isnull().sum()\n",
    "print(missing_values)"
   ]
  },
  {
   "cell_type": "markdown",
   "id": "1438d000-2ffe-485f-ba80-afab1e9eca5a",
   "metadata": {},
   "source": [
    "В датасете отсутствуют данные только в 3 столбцах, имя клана, описание клана и регион. Однако, эти данные не являются критическими для моего исследования и не влияют на возможность идентификации каждого клана.<br>"
   ]
  },
  {
   "cell_type": "markdown",
   "id": "e27f47e6-50d5-4c19-a3bd-7ea9ddb208b9",
   "metadata": {},
   "source": [
    "**Посмотрю подробнее отсутствующие значения на каждом из уровней кланов:**"
   ]
  },
  {
   "cell_type": "code",
   "execution_count": null,
   "id": "6f8c9cbd-394c-49ca-b4d4-10589d2f6c65",
   "metadata": {},
   "outputs": [],
   "source": [
    "# Пропуски в названии кланов\n",
    "missing_name = df[df['clan_name'].isnull()]\n",
    "\n",
    "# по уровням\n",
    "missing_name_count_by_level = missing_name.groupby('clan_level').size()\n",
    "\n",
    "missing_name_count_by_level"
   ]
  },
  {
   "cell_type": "code",
   "execution_count": null,
   "id": "9bdb5857-fbef-4785-90e2-dff39ab328f0",
   "metadata": {
    "scrolled": true
   },
   "outputs": [],
   "source": [
    "# Пропуски в локации кланов\n",
    "missing_location = df[df['clan_location'].isnull()]\n",
    "\n",
    "# по уровням\n",
    "missing_location_count_by_level = missing_location.groupby('clan_level').size()\n",
    "\n",
    "missing_location_count_by_level"
   ]
  },
  {
   "cell_type": "code",
   "execution_count": null,
   "id": "bcf976f7-0989-472d-b5a8-c02dfc8af65b",
   "metadata": {
    "scrolled": true
   },
   "outputs": [],
   "source": [
    "# Пропуски в описании кланов\n",
    "missing_description = df[df['clan_description'].isnull()]\n",
    "\n",
    "# по уровням\n",
    "missing_description_count_by_level = missing_description.groupby('clan_level').size()\n",
    "\n",
    "missing_description_count_by_level"
   ]
  },
  {
   "cell_type": "code",
   "execution_count": null,
   "id": "5d169a08-d15a-4eb3-9ab9-67a1c970ccfe",
   "metadata": {
    "scrolled": true
   },
   "outputs": [],
   "source": [
    "# Фильтрую строки, в которых нет одновременно и названия, и описания, и локации клана\n",
    "missing_all_count = df[df[['clan_name', 'clan_location', 'clan_description']].isnull().all(axis=1)]\n",
    "missing_all_count"
   ]
  },
  {
   "cell_type": "markdown",
   "id": "0310c018-d5cf-4cf4-9db4-0d1674ba2db9",
   "metadata": {},
   "source": [
    "Строк где нет одновременно названия, описания и локации только 26 шт. Мне для моего исследования это никак не мешает. <br>\n",
    "**Заменю все отстуствующие значения этих 3 столбцов на что-то понятное:**"
   ]
  },
  {
   "cell_type": "code",
   "execution_count": null,
   "id": "00095538-ad71-45da-8091-2e7da47f6772",
   "metadata": {},
   "outputs": [],
   "source": [
    "data['clan_name'] = data['clan_name'].fillna('Unknown')"
   ]
  },
  {
   "cell_type": "code",
   "execution_count": null,
   "id": "aefcb384-8c5d-467a-9ba2-1ac41a496716",
   "metadata": {},
   "outputs": [],
   "source": [
    "data['clan_description'] = data['clan_description'].fillna('Unknown')"
   ]
  },
  {
   "cell_type": "code",
   "execution_count": null,
   "id": "8da8ff56-e6ac-4059-ac95-f384b9c604b5",
   "metadata": {},
   "outputs": [],
   "source": [
    "data['clan_location'] = data['clan_location'].fillna('Unknown')"
   ]
  },
  {
   "cell_type": "code",
   "execution_count": null,
   "id": "bdba53f2-0563-44c3-9d26-2f7c19364175",
   "metadata": {
    "scrolled": true
   },
   "outputs": [],
   "source": [
    "missing_values = data.isnull().sum()\n",
    "missing_values"
   ]
  },
  {
   "cell_type": "markdown",
   "id": "3bdba881-e656-48ef-a3bf-dddc23c4c32e",
   "metadata": {},
   "source": [
    "# Поиск и обработка аномалий (выбросов)"
   ]
  },
  {
   "cell_type": "markdown",
   "id": "3435cadd-80b2-4efb-b89e-9ac1d03bba60",
   "metadata": {},
   "source": [
    "**Посмотрю какое количество кланов на каждом уровне**"
   ]
  },
  {
   "cell_type": "code",
   "execution_count": null,
   "id": "2cdce036-b0e6-480b-b6b4-fc6c95838c13",
   "metadata": {},
   "outputs": [],
   "source": [
    "clan_level_counts = data.groupby('clan_level').size()\n",
    "clan_level_counts"
   ]
  },
  {
   "cell_type": "markdown",
   "id": "f1f09acd-b8d3-40d8-a994-317d520b98b9",
   "metadata": {},
   "source": [
    "Большая часть кланов занимают 1 уровень, что нормально, так как туда попадают все новые кланы. В целом видно, что количество кланов по мере увеличения уровня пропорционально уменьшается. Однако стоит проверить, точно ли нет ошибок."
   ]
  },
  {
   "cell_type": "markdown",
   "id": "0491cc91-cfb4-44cd-8cb4-fe296d0e528e",
   "metadata": {},
   "source": [
    "**Посмотрю соотношение побед к поражениям на диаграмме рассеяния (scatterplot):** <br>\n",
    "Оно примерно должно быть пропорциональным."
   ]
  },
  {
   "cell_type": "code",
   "execution_count": null,
   "id": "89c11361-3e93-41be-beef-047009d28762",
   "metadata": {},
   "outputs": [],
   "source": [
    "plt.figure(figsize=(10, 6))\n",
    "plt.scatter(df['war_losses'], df['war_wins'], color='blue', alpha=0.5)\n",
    "plt.title('Соотношение побед к поражениям')\n",
    "plt.xlabel('Число поражений')\n",
    "plt.ylabel('Число побед')\n",
    "plt.grid(True)\n",
    "plt.show()"
   ]
  },
  {
   "cell_type": "markdown",
   "id": "a4005f97-6f88-4045-8386-e73c2708cdfd",
   "metadata": {},
   "source": [
    "По распределению видно, что основная масса кланов имеет пропорциональное соотношение, однако выделяется полоса кланов не имеющих ни одного поражения,но с большим количеством побед. Также имеется часть кланов с обратной ситуацией. "
   ]
  },
  {
   "cell_type": "markdown",
   "id": "8e557c6a-5a46-40ef-8cfe-3d059c9cae92",
   "metadata": {},
   "source": [
    "**Проверю war_win_streak (серия побед в войнах)** <br>\n",
    "Посмотрю, есть ли строки, где количество побед равно или больше 2, серия побед равна 0, и количество поражений равно 0. В данной игре серия побед засчитывается если есть больше 1 победы подряд."
   ]
  },
  {
   "cell_type": "code",
   "execution_count": null,
   "id": "16f89935-074d-4b6b-858c-738961cb9fde",
   "metadata": {
    "scrolled": true
   },
   "outputs": [],
   "source": [
    "war_stat_strange = df[(df['war_wins'] >= 2) & (df['war_win_streak'] == 0) & (df['war_losses'] == 0)]\n",
    "\n",
    "#отобразить все столбцы\n",
    "pd.set_option('display.max_columns', None)\n",
    "war_stat_strange"
   ]
  },
  {
   "cell_type": "markdown",
   "id": "0e610ac4-adba-496c-9cb5-7058aa1831f9",
   "metadata": {},
   "source": [
    "184359 строки имеют аномальное количество побед по отношению к 0 сериям побед и проигрышам.\n",
    "\n",
    "**Визуализирую эту ситуацию по уровням:**"
   ]
  },
  {
   "cell_type": "code",
   "execution_count": null,
   "id": "87db8790-8ffa-4299-b9e6-e72d0f8aa83d",
   "metadata": {
    "scrolled": true
   },
   "outputs": [],
   "source": [
    "war_stat_strange_counts = war_stat_strange.groupby('clan_level').size()\n",
    "war_stat_strange_counts"
   ]
  },
  {
   "cell_type": "code",
   "execution_count": null,
   "id": "bd3ec621-4465-4ad5-b8ed-cd9f942a7db6",
   "metadata": {},
   "outputs": [],
   "source": [
    "war_stat_strange_counts.plot(kind='bar', figsize=(12, 4), color='red')\n",
    "plt.title('Строки, где количество побед >= 2, а поражений и серии побед 0')\n",
    "plt.xlabel('Уровень клана')\n",
    "plt.ylabel('Количество строк')\n",
    "plt.xticks(rotation = 25)\n",
    "plt.grid(axis='y')\n",
    "plt.show()"
   ]
  },
  {
   "cell_type": "markdown",
   "id": "8fc66cad-62a4-4bba-819e-e3c27dd65da5",
   "metadata": {},
   "source": [
    "**Вынесу \"странные строки\" в отдельный датафрейм, а из data удалю:**"
   ]
  },
  {
   "cell_type": "code",
   "execution_count": null,
   "id": "59d05a61-7ac3-4800-8cef-77cefb490f29",
   "metadata": {
    "scrolled": true
   },
   "outputs": [],
   "source": [
    "# Выделяю выборку из data\n",
    "war_stat_strange = data[(data['war_wins'] >= 2) & (data['war_win_streak'] == 0) & (data['war_losses'] == 0)].copy()\n",
    "\n",
    "# Удаляю такие строки\n",
    "data.drop(war_stat_strange.index, inplace=True)"
   ]
  },
  {
   "cell_type": "markdown",
   "id": "9c6003b7-c858-47d0-bf19-b0576c9ae24f",
   "metadata": {},
   "source": [
    "Посмотрим, что изменилось:"
   ]
  },
  {
   "cell_type": "code",
   "execution_count": null,
   "id": "9b17140d-eb3b-46ff-8ec8-a9c6bfb076c0",
   "metadata": {},
   "outputs": [],
   "source": [
    "plt.figure(figsize=(10, 6))\n",
    "plt.scatter(data['war_losses'], data['war_wins'], color='blue', alpha=0.5)\n",
    "plt.title('Соотношение побед к поражениям')\n",
    "plt.xlabel('Число поражений')\n",
    "plt.ylabel('Число побед')\n",
    "plt.grid(True)\n",
    "plt.show()"
   ]
  },
  {
   "cell_type": "markdown",
   "id": "1c576c0b-2df7-442c-98d3-d09d64692bba",
   "metadata": {},
   "source": [
    "Подозрительный столбец с 0 проигрышами все еще остался, хоть и видно, что часть кланов пропала.<br> \n",
    "**Посмотрю в более крупном масштабе:**"
   ]
  },
  {
   "cell_type": "code",
   "execution_count": null,
   "id": "7a6036ab-8171-4475-a4d9-dec43441b9a3",
   "metadata": {},
   "outputs": [],
   "source": [
    "plt.figure(figsize=(10, 6))\n",
    "plt.scatter(data['war_losses'], data['war_wins'], color='blue', alpha=0.5)\n",
    "plt.title('Соотношение побед к поражениям')\n",
    "plt.xlabel('Число поражений')\n",
    "plt.ylabel('Число побед')\n",
    "\n",
    "plt.xlim(-1, 5)\n",
    "plt.ylim(0, 70)\n",
    "\n",
    "plt.grid(True)\n",
    "plt.show()"
   ]
  },
  {
   "cell_type": "markdown",
   "id": "1fd77db1-9032-4871-95fd-6950e17e2051",
   "metadata": {},
   "source": [
    "Для своего исследования я уберу в отдельный датафрейм строки, которые имеют более 30 побед при 0 поражениях."
   ]
  },
  {
   "cell_type": "code",
   "execution_count": null,
   "id": "02bb282d-cde6-4d97-b88e-29a5339e9b48",
   "metadata": {
    "scrolled": true
   },
   "outputs": [],
   "source": [
    "zero_losses_from_30 = data[(data['war_wins'] >= 30) & (data['war_losses'] == 0)].copy()\n",
    "zero_losses_from_30\n",
    "# таких 44705 строк"
   ]
  },
  {
   "cell_type": "code",
   "execution_count": null,
   "id": "228940a9-e8ce-4b16-8856-fac1bab81a79",
   "metadata": {},
   "outputs": [],
   "source": [
    "# Удаляю эти эти строки из data\n",
    "data.drop(zero_losses_from_30.index, inplace=True)"
   ]
  },
  {
   "cell_type": "code",
   "execution_count": null,
   "id": "08795c4f-07ad-4901-9f5c-db085abc612a",
   "metadata": {},
   "outputs": [],
   "source": [
    "plt.figure(figsize=(10, 6))\n",
    "plt.scatter(data['war_losses'], data['war_wins'], color='blue', alpha=0.5)\n",
    "plt.title('Соотношение побед к поражениям')\n",
    "plt.xlabel('Число поражений')\n",
    "plt.ylabel('Число побед')\n",
    "plt.grid(True)\n",
    "plt.show()"
   ]
  },
  {
   "cell_type": "markdown",
   "id": "a1289e13-9dce-4113-a689-ad9506625e69",
   "metadata": {},
   "source": [
    "**Я хочу проверить на аномалии самые выделяющиеся 5 областей:**"
   ]
  },
  {
   "cell_type": "markdown",
   "id": "d25280d8-b920-445c-b599-7805cfe68445",
   "metadata": {},
   "source": [
    "**ЧАСТЬ 1:**"
   ]
  },
  {
   "cell_type": "code",
   "execution_count": null,
   "id": "a10d9e1a-f87b-4d8b-8100-a9cfde3856da",
   "metadata": {},
   "outputs": [],
   "source": [
    "from sklearn.neighbors import LocalOutlierFactor\n",
    "\n",
    "# Выборка данных в выбранном диапазоне\n",
    "selected_data = data[(data['war_losses'] >= 0) & (data['war_losses'] <= 200) & \n",
    "                     (data['war_wins'] >= 350) & (data['war_wins'] <= 800)]\n",
    "\n",
    "X = selected_data[['war_losses', 'war_wins']].values\n",
    "\n",
    "# LOF\n",
    "lof = LocalOutlierFactor(n_neighbors=100, contamination=0.06)  # Настройте параметры по вашему усмотрению\n",
    "lof_labels = lof.fit_predict(X)\n",
    "\n",
    "# Определение аномальных строк\n",
    "anomalous_data = selected_data[lof_labels == -1]\n",
    "normal_data = selected_data[lof_labels != -1]\n",
    "\n",
    "# Визуализация\n",
    "plt.figure(figsize=(10, 6))\n",
    "plt.scatter(normal_data['war_losses'], normal_data['war_wins'], color='blue', alpha=0.5, label='Нормальные')\n",
    "plt.scatter(anomalous_data['war_losses'], anomalous_data['war_wins'], color='red', alpha=0.5, label='Аномалии')\n",
    "plt.title('LOF')\n",
    "plt.xlabel('Число поражений')\n",
    "plt.ylabel('Число побед')\n",
    "plt.legend()\n",
    "plt.grid(True)\n",
    "plt.show()\n",
    "\n",
    "num_anomalous = anomalous_data.shape[0]\n",
    "print(f'Количество аномальных строк: {num_anomalous}')"
   ]
  },
  {
   "cell_type": "code",
   "execution_count": null,
   "id": "80b80cd4-4951-4bf4-8e77-a7a00e452d4d",
   "metadata": {},
   "outputs": [],
   "source": [
    "# Удаление аномальных строк из основного DataFrame\n",
    "anomalous_indices = anomalous_data.index\n",
    "data = data.drop(anomalous_indices)\n",
    "\n",
    "# Сброс индексов для полученного DataFrame без аномалий\n",
    "data.reset_index(drop=True, inplace=True)"
   ]
  },
  {
   "cell_type": "markdown",
   "id": "086180d1-6efd-4009-9bbd-7d7e599a69b1",
   "metadata": {},
   "source": [
    "**ЧАСТЬ 2:**"
   ]
  },
  {
   "cell_type": "code",
   "execution_count": null,
   "id": "5889379a-7122-4e07-a960-2165839044cf",
   "metadata": {},
   "outputs": [],
   "source": [
    "\n",
    "selected_data = data[(data['war_losses'] >= 0) & (data['war_losses'] <= 400) & \n",
    "                     (data['war_wins'] >= 500) & (data['war_wins'] <= 1200)]\n",
    "\n",
    "X = selected_data[['war_losses', 'war_wins']].values\n",
    "\n",
    "lof = LocalOutlierFactor(n_neighbors=100, contamination=0.05)  # Настройте параметры по вашему усмотрению\n",
    "lof_labels = lof.fit_predict(X)\n",
    "\n",
    "anomalous_data = selected_data[lof_labels == -1]\n",
    "normal_data = selected_data[lof_labels != -1]\n",
    "\n",
    "plt.figure(figsize=(10, 6))\n",
    "plt.scatter(normal_data['war_losses'], normal_data['war_wins'], color='blue', alpha=0.5, label='Нормальные')\n",
    "plt.scatter(anomalous_data['war_losses'], anomalous_data['war_wins'], color='red', alpha=0.5, label='Аномалии')\n",
    "plt.title('LOF')\n",
    "plt.xlabel('Число поражений')\n",
    "plt.ylabel('Число побед')\n",
    "plt.legend()\n",
    "plt.grid(True)\n",
    "plt.show()\n",
    "\n",
    "num_anomalous = anomalous_data.shape[0]\n",
    "print(f'Количество аномальных строк: {num_anomalous}')"
   ]
  },
  {
   "cell_type": "code",
   "execution_count": null,
   "id": "20133cb1-5916-40ef-aab0-6bfb143235b6",
   "metadata": {},
   "outputs": [],
   "source": [
    "anomalous_indices = anomalous_data.index\n",
    "data = data.drop(anomalous_indices)\n",
    "\n",
    "data.reset_index(drop=True, inplace=True)"
   ]
  },
  {
   "cell_type": "markdown",
   "id": "31000f62-c12c-42e9-910b-be348ff8b20b",
   "metadata": {},
   "source": [
    "**ЧАСТЬ 3:**"
   ]
  },
  {
   "cell_type": "code",
   "execution_count": null,
   "id": "8afbed1f-fc5f-4a51-9b50-e0419c2e465b",
   "metadata": {},
   "outputs": [],
   "source": [
    "\n",
    "selected_data = data[(data['war_losses'] >= 400) & (data['war_losses'] <= 900) & \n",
    "                     (data['war_wins'] >= 600) & (data['war_wins'] <= 1000)]\n",
    "\n",
    "X = selected_data[['war_losses', 'war_wins']].values\n",
    "\n",
    "lof = LocalOutlierFactor(n_neighbors=100, contamination=0.07)  # Настройте параметры по вашему усмотрению\n",
    "lof_labels = lof.fit_predict(X)\n",
    "\n",
    "anomalous_data = selected_data[lof_labels == -1]\n",
    "normal_data = selected_data[lof_labels != -1]\n",
    "\n",
    "plt.figure(figsize=(10, 6))\n",
    "plt.scatter(normal_data['war_losses'], normal_data['war_wins'], color='blue', alpha=0.5, label='Нормальные')\n",
    "plt.scatter(anomalous_data['war_losses'], anomalous_data['war_wins'], color='red', alpha=0.5, label='Аномалии')\n",
    "plt.title('LOF')\n",
    "plt.xlabel('Число поражений')\n",
    "plt.ylabel('Число побед')\n",
    "plt.legend()\n",
    "plt.grid(True)\n",
    "plt.show()\n",
    "\n",
    "num_anomalous = anomalous_data.shape[0]\n",
    "print(f'Количество аномальных строк: {num_anomalous}')"
   ]
  },
  {
   "cell_type": "code",
   "execution_count": null,
   "id": "e35ddda4-34ad-4e6e-a931-727608a5c834",
   "metadata": {},
   "outputs": [],
   "source": [
    "anomalous_indices = anomalous_data.index\n",
    "data = data.drop(anomalous_indices)\n",
    "\n",
    "data.reset_index(drop=True, inplace=True)"
   ]
  },
  {
   "cell_type": "markdown",
   "id": "17b589a2-377b-41dc-9cf3-742e77e72dcb",
   "metadata": {},
   "source": [
    "**ЧАСТЬ 4:**"
   ]
  },
  {
   "cell_type": "code",
   "execution_count": null,
   "id": "88ee38de-061c-40cf-a6ec-d266b45bc989",
   "metadata": {},
   "outputs": [],
   "source": [
    "selected_data = data[(data['war_losses'] >= 400) & (data['war_losses'] <= 1300) & \n",
    "                     (data['war_wins'] >= 0) & (data['war_wins'] <= 600)]\n",
    "\n",
    "X = selected_data[['war_losses', 'war_wins']].values\n",
    "\n",
    "lof = LocalOutlierFactor(n_neighbors=300, contamination=0.03)  # Настройте параметры по вашему усмотрению\n",
    "lof_labels = lof.fit_predict(X)\n",
    "\n",
    "anomalous_data = selected_data[lof_labels == -1]\n",
    "normal_data = selected_data[lof_labels != -1]\n",
    "\n",
    "plt.figure(figsize=(10, 6))\n",
    "plt.scatter(normal_data['war_losses'], normal_data['war_wins'], color='blue', alpha=0.5, label='Нормальные')\n",
    "plt.scatter(anomalous_data['war_losses'], anomalous_data['war_wins'], color='red', alpha=0.5, label='Аномалии')\n",
    "plt.title('LOF')\n",
    "plt.xlabel('Число поражений')\n",
    "plt.ylabel('Число побед')\n",
    "plt.legend()\n",
    "plt.grid(True)\n",
    "plt.show()\n",
    "\n",
    "num_anomalous = anomalous_data.shape[0]\n",
    "print(f'Количество аномальных строк: {num_anomalous}')"
   ]
  },
  {
   "cell_type": "code",
   "execution_count": null,
   "id": "4dcf1760-3afa-4fb2-acdb-f1f0aad8fb9f",
   "metadata": {},
   "outputs": [],
   "source": [
    "anomalous_indices = anomalous_data.index\n",
    "data = data.drop(anomalous_indices)\n",
    "\n",
    "data.reset_index(drop=True, inplace=True)"
   ]
  },
  {
   "cell_type": "markdown",
   "id": "6090c4b1-5516-47bd-a1da-7caef4a9b00f",
   "metadata": {},
   "source": [
    "**Смотрю, как сейчас выглядят данные:**"
   ]
  },
  {
   "cell_type": "code",
   "execution_count": null,
   "id": "444c609b-7e00-4066-a568-4ac924c633b8",
   "metadata": {},
   "outputs": [],
   "source": [
    "plt.figure(figsize=(10, 6))\n",
    "plt.scatter(data['war_losses'], data['war_wins'], color='blue', alpha=0.5)\n",
    "plt.title('Соотношение побед к поражениям')\n",
    "plt.xlabel('Число поражений')\n",
    "plt.ylabel('Число побед')\n",
    "plt.grid(True)\n",
    "plt.show()"
   ]
  },
  {
   "cell_type": "code",
   "execution_count": null,
   "id": "13645aaf-aa4d-47d2-9803-f7bddcc24f5f",
   "metadata": {},
   "outputs": [],
   "source": [
    "data.shape\n",
    "# Было 3559743"
   ]
  },
  {
   "cell_type": "markdown",
   "id": "6e22a936-6e61-4c1d-931a-bf48f25cdfaa",
   "metadata": {},
   "source": [
    "# Влияние уровня ратуши клана и его столицы на результаты в войнах"
   ]
  },
  {
   "cell_type": "code",
   "execution_count": null,
   "id": "545b5f7d-c41b-4755-b13d-76049065776c",
   "metadata": {},
   "outputs": [],
   "source": []
  }
 ],
 "metadata": {
  "kernelspec": {
   "display_name": "Python 3 (ipykernel)",
   "language": "python",
   "name": "python3"
  },
  "language_info": {
   "codemirror_mode": {
    "name": "ipython",
    "version": 3
   },
   "file_extension": ".py",
   "mimetype": "text/x-python",
   "name": "python",
   "nbconvert_exporter": "python",
   "pygments_lexer": "ipython3",
   "version": "3.12.2"
  }
 },
 "nbformat": 4,
 "nbformat_minor": 5
}
